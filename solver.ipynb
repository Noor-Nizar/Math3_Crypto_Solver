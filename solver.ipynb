{
 "cells": [
  {
   "cell_type": "code",
   "execution_count": 1,
   "id": "8716987b",
   "metadata": {},
   "outputs": [],
   "source": [
    "import numpy as np"
   ]
  },
  {
   "cell_type": "code",
   "execution_count": 160,
   "id": "1fb99d5f",
   "metadata": {},
   "outputs": [],
   "source": [
    "encmat = '5 3 0;4 3 -1;5 2 2'            ## each row separated by semicolon\n",
    "msg = \"DR JOHN IS THE SPY\".lower()\n",
    "\n",
    "\n",
    "mat = np.matrix(encmat)\n",
    "ncr = mat.shape[0]\n",
    "\n",
    "cors = {}\n",
    "cors[\" \"] = 0\n",
    "for x in range(1,27):\n",
    "    cors[chr(96+x)] = x\n",
    "\n",
    "nrr = len(msg)/ncr\n",
    "nrr = np.ceil(nrr)\n",
    "mmsg = [cors[x] for x in msg]\n",
    "while(len(mmsg) < ncr*nrr):\n",
    "    mmsg.append(0)\n",
    "\n",
    "lol = []\n",
    "for x in range(0,len(mmsg),ncr):\n",
    "    lol.append(mmsg[x:x+ncr])\n",
    "\n",
    "lol = np.matrix(lol)\n",
    "enc = lol * mat\n"
   ]
  },
  {
   "cell_type": "code",
   "execution_count": 161,
   "id": "8e67b5b2",
   "metadata": {},
   "outputs": [
    {
     "name": "stdout",
     "output_type": "stream",
     "text": [
      "[[ 4 18  0]\n",
      " [10 15  8]\n",
      " [14  0  9]\n",
      " [19  0 20]\n",
      " [ 8  5  0]\n",
      " [19 16 25]]\n"
     ]
    }
   ],
   "source": [
    "### Message in Numbers\n",
    "print(lol)"
   ]
  },
  {
   "cell_type": "code",
   "execution_count": 162,
   "id": "917a5b5c",
   "metadata": {},
   "outputs": [
    {
     "name": "stdout",
     "output_type": "stream",
     "text": [
      "[[ 92  66 -18]\n",
      " [150  91   1]\n",
      " [115  60  18]\n",
      " [195  97  40]\n",
      " [ 60  39  -5]\n",
      " [284 155  34]]\n"
     ]
    }
   ],
   "source": [
    "### Encrypted Message\n",
    "print(enc)"
   ]
  },
  {
   "cell_type": "code",
   "execution_count": 163,
   "id": "da4eebf2",
   "metadata": {},
   "outputs": [
    {
     "data": {
      "text/plain": [
       "matrix([[  8.,  -6.,  -3.],\n",
       "        [-13.,  10.,   5.],\n",
       "        [ -7.,   5.,   3.]])"
      ]
     },
     "execution_count": 163,
     "metadata": {},
     "output_type": "execute_result"
    }
   ],
   "source": [
    "## Encryption Key Adjoint Matrix (used for calculating inverse)\n",
    "np.linalg.det(mat)*np.linalg.inv(mat)"
   ]
  },
  {
   "cell_type": "code",
   "execution_count": 164,
   "id": "b604c5f9",
   "metadata": {},
   "outputs": [
    {
     "data": {
      "text/plain": [
       "matrix([[  8.,  -6.,  -3.],\n",
       "        [-13.,  10.,   5.],\n",
       "        [ -7.,   5.,   3.]])"
      ]
     },
     "execution_count": 164,
     "metadata": {},
     "output_type": "execute_result"
    }
   ],
   "source": [
    "## Inverse of Encryption Matrix (Decryption Matrix)\n",
    "np.linalg.inv(mat)"
   ]
  },
  {
   "cell_type": "code",
   "execution_count": 172,
   "id": "34509eaf",
   "metadata": {},
   "outputs": [
    {
     "data": {
      "text/plain": [
       "matrix([[ 4., 18.,  0.],\n",
       "        [10., 15.,  8.],\n",
       "        [14.,  0.,  9.],\n",
       "        [19.,  0., 20.],\n",
       "        [ 8.,  5.,  0.],\n",
       "        [19., 16., 25.]])"
      ]
     },
     "execution_count": 172,
     "metadata": {},
     "output_type": "execute_result"
    }
   ],
   "source": [
    "##Pointless verification \n",
    "enc*np.linalg.inv(mat).round()"
   ]
  }
 ],
 "metadata": {
  "interpreter": {
   "hash": "910010b9128fec0bda95a110deaa2f7baca3ef79608cce04836aad2a922a4fb5"
  },
  "kernelspec": {
   "display_name": "Python 3",
   "language": "python",
   "name": "python3"
  },
  "language_info": {
   "codemirror_mode": {
    "name": "ipython",
    "version": 3
   },
   "file_extension": ".py",
   "mimetype": "text/x-python",
   "name": "python",
   "nbconvert_exporter": "python",
   "pygments_lexer": "ipython3",
   "version": "3.8.8"
  }
 },
 "nbformat": 4,
 "nbformat_minor": 5
}
